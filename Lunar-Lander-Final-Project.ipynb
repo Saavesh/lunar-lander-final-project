{
 "cells": [
  {
   "cell_type": "markdown",
   "id": "b861da6f-6b36-4fa9-a7c6-4f12aef8e51c",
   "metadata": {},
   "source": [
    "# 🚀 Lunar Lander Final Project\n",
    "\n",
    "## 1. Overview\n",
    "\n",
    "This project explores reinforcement learning using the OpenAI Gymnasium `LunarLander-v3` environment.\n",
    "\n",
    "The goal is to design an agent that can land a rocket safely on the landing pad while minimizing fuel usage and avoiding crashes.\n",
    "\n",
    "- Environment: [LunarLander-v3 Documentation](https://gymnasium.farama.org/environments/box2d/lunar_lander/)\n",
    "- Libraries: Gymnasium, Pygame, Box2D\n",
    "\n",
    "\n",
    "---\n",
    "\n",
    "## 2. Approach"
   ]
  },
  {
   "cell_type": "code",
   "execution_count": 3,
   "id": "f69175df-ea0b-4899-9a0a-6793ce168ccd",
   "metadata": {},
   "outputs": [
    {
     "name": "stderr",
     "output_type": "stream",
     "text": [
      "2025-04-27 17:53:13.713 Python[5820:88070] +[IMKClient subclass]: chose IMKClient_Modern\n",
      "2025-04-27 17:53:13.713 Python[5820:88070] +[IMKInputSession subclass]: chose IMKInputSession_Modern\n"
     ]
    }
   ],
   "source": [
    "import gymnasium as gym\n",
    "\n",
    "# Initialize the environment\n",
    "env = gym.make(\"LunarLander-v3\", render_mode=\"human\")\n",
    "\n",
    "# Reset the environment to generate the first observation\n",
    "observation, info = env.reset(seed=42)\n",
    "\n",
    "for _ in range(1000):\n",
    "    action = env.action_space.sample()\n",
    "\n",
    "    # Step through the environment with the action\n",
    "    observation, reward, terminated, truncated, info = env.step(action)\n",
    "\n",
    "    # If the episode has ended then reset to start a new episode\n",
    "    if terminated or truncated:\n",
    "        observation, info = env.reset()\n",
    "\n",
    "env.close()"
   ]
  },
  {
   "cell_type": "code",
   "execution_count": null,
   "id": "64485d46-9317-4fec-9106-3e23f089fae9",
   "metadata": {},
   "outputs": [],
   "source": []
  }
 ],
 "metadata": {
  "kernelspec": {
   "display_name": "Python 3 (ipykernel)",
   "language": "python",
   "name": "python3"
  },
  "language_info": {
   "codemirror_mode": {
    "name": "ipython",
    "version": 3
   },
   "file_extension": ".py",
   "mimetype": "text/x-python",
   "name": "python",
   "nbconvert_exporter": "python",
   "pygments_lexer": "ipython3",
   "version": "3.13.2"
  }
 },
 "nbformat": 4,
 "nbformat_minor": 5
}
