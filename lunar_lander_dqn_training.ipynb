{
 "cells": [
  {
   "cell_type": "markdown",
   "id": "6e68f029-7c5f-4b87-b5ed-b57e5ea40b70",
   "metadata": {},
   "source": [
    "# Lunar Lander\n",
    "\n",
    "In this notebook, we will train an agent using a Deep Q-Network (DQN) to land a spacecraft safely in the LunarLander-v3 environment.\n",
    "\n",
    "Steps:\n",
    "- Setup the environment\n",
    "- Define the DQN agent\n",
    "- Train the agent\n",
    "- Plot the training results\n",
    "---\n",
    "\n",
    "### 1. Imports and Device Setup\n",
    "\n",
    "Load packages and check if we can use a GPU for faster training\n"
   ]
  },
  {
   "cell_type": "code",
   "execution_count": null,
   "id": "c9e6c7d9-21c1-4772-9ae0-1a30c5c67760",
   "metadata": {},
   "outputs": [],
   "source": [
    "import gymnasium as gym\n",
    "import numpy as np\n",
    "import matplotlib.pyplot as plt\n",
    "import torch\n",
    "import torch.nn as nn\n",
    "import torch.optim as optim\n",
    "import random\n",
    "from collections import deque, namedtuple\n",
    "\n",
    "# Make sure we run on GPU if available (otherwise CPU)\n",
    "device = torch.device(\"cuda\" if torch.cuda.is_available() else \"cpu\")\n",
    "print(f\"Using device: {device}\")"
   ]
  },
  {
   "cell_type": "markdown",
   "id": "0a38a707-b379-4e1b-9f7d-380fc0f9c17b",
   "metadata": {},
   "source": [
    "## 2. Build the Q-Network\n",
    "This is the brain of our agent\n",
    "It learns to predict the best action to take in any situation."
   ]
  },
  {
   "cell_type": "code",
   "execution_count": null,
   "id": "7e92c256-66f8-4bba-9ea0-74330180c135",
   "metadata": {},
   "outputs": [],
   "source": [
    "class QNetwork(nn.Module):\n",
    "    def __init__(self, state_dim, action_dim, hidden_dim=64):\n",
    "        super().__init__()\n",
    "        self.layers = nn.Sequential(\n",
    "            nn.Linear(state_dim, hidden_dim),\n",
    "            nn.ReLU(),\n",
    "            nn.Linear(hidden_dim, hidden_dim),\n",
    "            nn.ReLU(),\n",
    "            nn.Linear(hidden_dim, action_dim)\n",
    "        )\n",
    "    \n",
    "    def forward(self, x):\n",
    "        return self.layers(x)"
   ]
  },
  {
   "cell_type": "markdown",
   "id": "10e1592a-acd9-4338-bf27-faf078f5ae88",
   "metadata": {},
   "source": [
    "### 3. Build the Replay Buffer\n",
    "This is our agent's \"memory\" to remember what happened and learn from it."
   ]
  },
  {
   "cell_type": "code",
   "execution_count": null,
   "id": "685a45d2-525b-439f-9110-7239196d8b46",
   "metadata": {},
   "outputs": [],
   "source": [
    "class ReplayBuffer:\n",
    "    def __init__(self, capacity=100_000):\n",
    "        self.buffer = deque(maxlen=capacity)\n",
    "        self.experience = namedtuple(\"Experience\", [\"state\", \"action\", \"reward\", \"next_state\", \"done\"])\n",
    "\n",
    "    def push(self, state, action, reward, next_state, done):\n",
    "        self.buffer.append(self.experience(state, action, reward, next_state, done))\n",
    "\n",
    "    def sample(self, batch_size):\n",
    "        batch = random.sample(self.buffer, batch_size)\n",
    "        states      = torch.from_numpy(np.vstack([e.state for e in batch])).float().to(device)\n",
    "        actions     = torch.from_numpy(np.vstack([e.action for e in batch])).long().to(device)\n",
    "        rewards     = torch.from_numpy(np.vstack([e.reward for e in batch])).float().to(device)\n",
    "        next_states = torch.from_numpy(np.vstack([e.next_state for e in batch])).float().to(device)\n",
    "        dones       = torch.from_numpy(np.vstack([e.done for e in batch]).astype(np.uint8)).float().to(device)\n",
    "        return states, actions, rewards, next_states, dones\n",
    "\n",
    "    def __len__(self):\n",
    "        return len(self.buffer)"
   ]
  },
  {
   "cell_type": "markdown",
   "id": "9904768a-1a53-4f4f-bab9-47d499184bd8",
   "metadata": {},
   "source": [
    "### 4. Build the DQN Agent\n",
    "This agent will:\n",
    "- Pick actions\n",
    "- Store experiences\n",
    "- Learn from past mistakes"
   ]
  },
  {
   "cell_type": "code",
   "execution_count": null,
   "id": "74b4a76a-6c56-47f9-979b-e52cdfbe1703",
   "metadata": {},
   "outputs": [],
   "source": [
    "class DQNAgent:\n",
    "    def __init__(self, state_dim, action_dim, hidden_dim=64, lr=1e-4, gamma=0.99, tau=1e-3, batch_size=64, update_every=5):\n",
    "        self.q_eval = QNetwork(state_dim, action_dim, hidden_dim).to(device)\n",
    "        self.q_target = QNetwork(state_dim, action_dim, hidden_dim).to(device)\n",
    "        self.optimizer = optim.Adam(self.q_eval.parameters(), lr=lr)\n",
    "        \n",
    "        self.gamma = gamma\n",
    "        self.tau = tau\n",
    "        self.batch_size = batch_size\n",
    "        self.update_every = update_every\n",
    "        self.step_counter = 0\n",
    "\n",
    "        self.buffer = ReplayBuffer()\n",
    "        self.loss_fn = nn.MSELoss()\n",
    "\n",
    "    def act(self, state, epsilon=0.1):\n",
    "        if random.random() < epsilon:\n",
    "            return random.randrange(self.q_eval.layers[-1].out_features)\n",
    "        else:\n",
    "            state_t = torch.tensor(state).float().unsqueeze(0).to(device)\n",
    "            with torch.no_grad():\n",
    "                return int(torch.argmax(self.q_eval(state_t)).item())\n",
    "\n",
    "    def step(self, state, action, reward, next_state, done):\n",
    "        self.buffer.push(state, action, reward, next_state, done)\n",
    "\n",
    "        self.step_counter = (self.step_counter + 1) % self.update_every\n",
    "        if self.step_counter == 0 and len(self.buffer) >= self.batch_size:\n",
    "            self.learn()\n",
    "\n",
    "    def learn(self):\n",
    "        states, actions, rewards, next_states, dones = self.buffer.sample(self.batch_size)\n",
    "\n",
    "        q_targets_next = self.q_target(next_states).detach().max(dim=1, keepdim=True)[0]\n",
    "        q_targets = rewards + (self.gamma * q_targets_next * (1 - dones))\n",
    "        q_expected = self.q_eval(states).gather(1, actions)\n",
    "\n",
    "        loss = self.loss_fn(q_expected, q_targets)\n",
    "\n",
    "        self.optimizer.zero_grad()\n",
    "        loss.backward()\n",
    "        self.optimizer.step()\n",
    "\n",
    "        self.soft_update()\n",
    "\n",
    "    def soft_update(self):\n",
    "        for target_param, eval_param in zip(self.q_target.parameters(), self.q_eval.parameters()):\n",
    "            target_param.data.copy_(self.tau * eval_param.data + (1.0 - self.tau) * target_param.data)\n"
   ]
  },
  {
   "cell_type": "markdown",
   "id": "6c988e13-92f9-4333-a1e9-5f296f7d37dd",
   "metadata": {},
   "source": [
    "### 5. Train the Agent\n",
    "Let's make our lander smarter with each episode"
   ]
  },
  {
   "cell_type": "code",
   "execution_count": null,
   "id": "b72fe23d-5a20-435a-a255-ff698969b0c1",
   "metadata": {},
   "outputs": [],
   "source": [
    "def train_dqn(env, agent, n_episodes=1500, max_steps=1000, eps_start=1.0, eps_end=0.01, eps_decay=0.995):\n",
    "    scores = []\n",
    "    epsilon = eps_start\n",
    "\n",
    "    for ep in range(1, n_episodes + 1):\n",
    "        state, _ = env.reset(seed=ep)\n",
    "        total_reward = 0\n",
    "\n",
    "        for t in range(max_steps):\n",
    "            action = agent.act(state, epsilon)\n",
    "            next_state, reward, terminated, truncated, _ = env.step(action)\n",
    "            done = terminated or truncated\n",
    "\n",
    "            agent.step(state, action, reward, next_state, done)\n",
    "\n",
    "            state = next_state\n",
    "            total_reward += reward\n",
    "\n",
    "            if done:\n",
    "                break\n",
    "\n",
    "        scores.append(total_reward)\n",
    "        epsilon = max(eps_end, eps_decay * epsilon)\n",
    "\n",
    "        if ep % 100 == 0:\n",
    "            avg_score = np.mean(scores[-100:])\n",
    "            print(f\"Episode {ep} | Average (last 100 episodes): {avg_score:.2f}\")\n",
    "\n",
    "    return scores"
   ]
  },
  {
   "cell_type": "markdown",
   "id": "dc0085a3-a011-4d04-a423-b88919ccedb5",
   "metadata": {},
   "source": [
    "### 6. Main Training Execution"
   ]
  },
  {
   "cell_type": "code",
   "execution_count": null,
   "id": "c7f6261f-6ca4-42b6-ab3a-bc8c0b959d0f",
   "metadata": {},
   "outputs": [],
   "source": [
    "# Create environment\n",
    "env = gym.make(\"LunarLander-v3\")\n",
    "state_dim = env.observation_space.shape[0]\n",
    "action_dim = env.action_space.n\n",
    "\n",
    "# Create agent\n",
    "agent = DQNAgent(state_dim, action_dim)\n",
    "\n",
    "# Train agent\n",
    "scores = train_dqn(env, agent)\n",
    "\n",
    "# Save trained model\n",
    "torch.save(agent.q_eval.state_dict(), \"dqn_lander.pth\")\n",
    "\n",
    "# Close env after training\n",
    "env.close()"
   ]
  },
  {
   "cell_type": "markdown",
   "id": "83d577c7-45aa-4f5f-b172-1dc9731bd5d7",
   "metadata": {},
   "source": [
    "### 7. Plot the Results\n",
    "Let's see how the lander improved over time"
   ]
  },
  {
   "cell_type": "code",
   "execution_count": null,
   "id": "17aa8fc5-2380-437e-9595-23b28b1e7bb9",
   "metadata": {},
   "outputs": [],
   "source": [
    "plt.figure(figsize=(10,6))\n",
    "plt.plot(np.arange(len(scores)), scores)\n",
    "plt.xlabel('Episode')\n",
    "plt.ylabel('Total Reward')\n",
    "plt.title('Training Performance Over Episodes')\n",
    "plt.grid(True)\n",
    "plt.savefig(\"training_curve.png\")\n",
    "plt.show()\n",
    "\n",
    "print(\"Training complete!\")"
   ]
  },
  {
   "cell_type": "code",
   "execution_count": null,
   "id": "0dc095d3-303b-43b0-bbab-485ca16961df",
   "metadata": {},
   "outputs": [],
   "source": []
  }
 ],
 "metadata": {
  "kernelspec": {
   "display_name": "Python 3 (ipykernel)",
   "language": "python",
   "name": "python3"
  },
  "language_info": {
   "codemirror_mode": {
    "name": "ipython",
    "version": 3
   },
   "file_extension": ".py",
   "mimetype": "text/x-python",
   "name": "python",
   "nbconvert_exporter": "python",
   "pygments_lexer": "ipython3",
   "version": "3.13.2"
  }
 },
 "nbformat": 4,
 "nbformat_minor": 5
}
